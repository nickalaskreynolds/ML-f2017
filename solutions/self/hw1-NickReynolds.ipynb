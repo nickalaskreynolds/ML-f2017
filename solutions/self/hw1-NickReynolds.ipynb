{
 "cells": [
  {
   "cell_type": "markdown",
   "metadata": {},
   "source": [
    "# Homework 1\n",
    "\n",
    "## ASTR 5900, Fall 2017, University of Oklahoma"
   ]
  },
  {
   "cell_type": "markdown",
   "metadata": {},
   "source": [
    "# Problem 1\n",
    "\n",
    "Practice your Git and GitHub skills which are required to submit this homework.\n",
    "- Clone the class repository to your computer located at URL\n",
    "- Click the Github Classroom link you received via email.  This will create a private github repository through which you'll be submitting your homeworks. Clone that repository to your computer.\n",
    "- Copy this notebook from the class github repository to your private homework submission repository. IMPORTANT: rename it to `<filename>-FirstLast.ipynb` once you copy it, where `<filename>` is the existing filename and `FirstLast` are your first and last name. Example: `hw1-AlexKerr.ipynb`.\n",
    "- Commit and push your completed work to your remote repository hosted on GitHub.\n",
    "\n",
    "You will be submitting all of your electronic homeworks in this manner.  "
   ]
  },
  {
   "cell_type": "markdown",
   "metadata": {},
   "source": [
    "# Problem 2\n",
    "\n",
    "Complete each section in their following cell(s)."
   ]
  },
  {
   "cell_type": "markdown",
   "metadata": {},
   "source": [
    "### Part A\n",
    "\n",
    "Import a crucial python library titled `numpy` that is used for fast, element-wise computations.  You may also give it a short alias such as `np` because we will be calling many functions from this library.  This is not a default python package so it must be installed manually.  It should already be installed with with Anaconda package manager."
   ]
  },
  {
   "cell_type": "code",
   "execution_count": null,
   "metadata": {
    "collapsed": true
   },
   "outputs": [],
   "source": [
    "import numpy as np"
   ]
  },
  {
   "cell_type": "markdown",
   "metadata": {},
   "source": [
    "### Part B\n",
    "\n",
    "Complete these function definitions"
   ]
  },
  {
   "cell_type": "code",
   "execution_count": null,
   "metadata": {
    "collapsed": true
   },
   "outputs": [],
   "source": [
    "def hello():\n",
    "    print('Hello World!')"
   ]
  },
  {
   "cell_type": "code",
   "execution_count": null,
   "metadata": {
    "collapsed": true
   },
   "outputs": [],
   "source": [
    "def power(a,b):\n",
    "    \"\"\"Return a^b\"\"\"\n",
    "    return a**b"
   ]
  },
  {
   "cell_type": "markdown",
   "metadata": {},
   "source": [
    "### Part C\n",
    "\n",
    "Write a function that takes a list of numbers as an argument and returns a list of numbers that are squares of the originals (with the same indexing).  Do this with default python."
   ]
  },
  {
   "cell_type": "code",
   "execution_count": null,
   "metadata": {
    "collapsed": true
   },
   "outputs": [],
   "source": [
    "def square(a):\n",
    "    return [i**2 for i in a]"
   ]
  },
  {
   "cell_type": "markdown",
   "metadata": {},
   "source": [
    "### Part D\n",
    "Now write a function that takes an array-like argument and returns a numpy array of numbers that are squares of the originals.  This must be performed with the `numpy` package.  Note this can be done in two simple lines!\n"
   ]
  },
  {
   "cell_type": "code",
   "execution_count": null,
   "metadata": {
    "collapsed": true
   },
   "outputs": [],
   "source": [
    "def np_square(a):\n",
    "    return np.array([i**2 for i in a])"
   ]
  },
  {
   "cell_type": "markdown",
   "metadata": {},
   "source": [
    "### Part E\n",
    "\n",
    "Write a function that prints every number from 1 to 100 inclusive.  For every number that is divisible by 3 print the string 'Fizz' instead.  For every number that is divisible by 5 print 'Buzz' instead.  If the number is divisible by 3 AND 5 print 'FizzBuzz'."
   ]
  },
  {
   "cell_type": "code",
   "execution_count": null,
   "metadata": {
    "collapsed": true
   },
   "outputs": [],
   "source": [
    "def listing():\n",
    "    a=[x for x in range(1,101)]\n",
    "    for j,i in enumerate(a):\n",
    "        if ((i%3)==0) and ((i%5)==0):\n",
    "            a[j]=\"FizzBuzz\"\n",
    "        elif ((i%3)==0):\n",
    "            a[j]=\"Fizz\"\n",
    "        elif ((i%5)==0):\n",
    "            a[j]=\"Buzz\"\n",
    "    return a"
   ]
  },
  {
   "cell_type": "markdown",
   "metadata": {},
   "source": [
    "# Problem 3\n",
    "\n",
    "Using `matplotlib.pyplot`, plot $ \\sin(x) $ versus $ x $ from $0$ to $4\\pi$."
   ]
  },
  {
   "cell_type": "code",
   "execution_count": null,
   "metadata": {},
   "outputs": [],
   "source": [
    "import matplotlib.pyplot as plt\n",
    "\n",
    "delx=0.01\n",
    "x=np.arange(0,5,delx)\n",
    "\n",
    "plt.figure(1)\n",
    "plt.plot(x, np.cos(2.*np.pi*x), 'b--')\n",
    "plt.title(\"$ \\sin(x) $ versus $ x $ from $0$ to $4\\pi$.\")\n",
    "plt.show()"
   ]
  },
  {
   "cell_type": "markdown",
   "metadata": {},
   "source": [
    "# Problem 4"
   ]
  },
  {
   "cell_type": "markdown",
   "metadata": {},
   "source": [
    "### Part A\n",
    "\n",
    "Correct this class definition"
   ]
  },
  {
   "cell_type": "code",
   "execution_count": null,
   "metadata": {
    "collapsed": true
   },
   "outputs": [],
   "source": [
    "class Cat:\n",
    "    \n",
    "    def __init__(self,name, weight):\n",
    "        self.name = name\n",
    "        self.weight = weight"
   ]
  },
  {
   "cell_type": "markdown",
   "metadata": {},
   "source": [
    "### Part B\n",
    "\n",
    "Write a class `Car` that takes 3 arguments and assigns them as attributes: make, model, year.  Give every car a position of 0 initially.  The `Car` class must also have a `drive` method that changes the position of the car by a value given as an argument.  You can assume the car moves in only one dimension."
   ]
  },
  {
   "cell_type": "code",
   "execution_count": null,
   "metadata": {
    "collapsed": true
   },
   "outputs": [],
   "source": [
    "class Car:\n",
    "    \n",
    "    def __init__(self,make,model,year,position=0):\n",
    "        self.make = make\n",
    "        self.model = model\n",
    "        self.year = year\n",
    "        self.position = position\n",
    "    \n",
    "    def drive(self, delpos=0):\n",
    "        self.position = self.position + delpos\n",
    "        \n",
    "        "
   ]
  },
  {
   "cell_type": "markdown",
   "metadata": {},
   "source": [
    "### Part C\n",
    "\n",
    "Create an instance of your `Car` class.  Move the car by 5 units by calling its drive method.  Add a `registration` method to your Car class that prints the make, model, and year of a Car instance (this can be done without redefining your Car class!).  Call the registration method of your Car instance."
   ]
  },
  {
   "cell_type": "code",
   "execution_count": null,
   "metadata": {
    "collapsed": true
   },
   "outputs": [],
   "source": [
    "owner = Car(\"make1\",\"model1\",2001)\n",
    "owner.drive(5)\n",
    "\n",
    "def registration(self):\n",
    "    print(\"Make : {}\".format(self.make))\n",
    "    print(\"Model: {}\".format(self.model))\n",
    "    print(\"Year : {}\".format(self.year))\n",
    "    print(\"Pos  : {}\".format(self.position))\n",
    "        \n",
    "Car.registration = registration\n",
    "\n",
    "owner.registration()"
   ]
  },
  {
   "cell_type": "markdown",
   "metadata": {},
   "source": [
    "# Problem 5\n",
    "\n",
    "Download the Old Faithful data located [here](http://www.stat.cmu.edu/~larry/all-of-statistics/=data/faithful.dat).  Use python to read in this data and plot it using `matplotlib` with appropriate labels.  You may use default python or any of the canonical 3rd party packages discussed in class (numpy, etc.)."
   ]
  },
  {
   "cell_type": "code",
   "execution_count": null,
   "metadata": {},
   "outputs": [],
   "source": [
    "filename=\"OldFaithful.dat\"\n",
    "\n",
    "# assuming data doesn't have a header\n",
    "with open(filename,'r') as f:\n",
    "    data=f.readlines()\n",
    "    \n",
    "data=[x.strip('\\n') for x in data]    \n",
    "data=[x.split() for x in data]\n",
    "numvals=[x[0] for x in data]\n",
    "erupvals=[x[1] for x in data]\n",
    "waitvals=[x[2] for x in data]\n",
    "\n",
    "plt.figure(2)\n",
    "plt.subplot(211)\n",
    "lin1=plt.plot(numvals, erupvals, 'r')\n",
    "plt.title(\"Dataset from Old Faithful, Eruption time in mins\")\n",
    "plt.subplot(212)\n",
    "lin2=plt.plot(numvals, waitvals, 'b')\n",
    "plt.title(\"Dataset from Old Faithful, Wait time in mins\")\n",
    "plt.xlabel('Number', fontsize=14)\n",
    "plt.xlabel('Minutes', fontsize=14)\n",
    "plt.show()"
   ]
  },
  {
   "cell_type": "markdown",
   "metadata": {},
   "source": [
    "# Problem 6\n",
    "\n",
    "Create a `5`x`10` `numpy` array filled with elements that were sampled from a standard normal distribution.  With proper list slicing, print the 2nd column then the 4th row of this array."
   ]
  },
  {
   "cell_type": "code",
   "execution_count": null,
   "metadata": {
    "collapsed": true
   },
   "outputs": [],
   "source": [
    "mu=0\n",
    "sigma=0.1\n",
    "shape=[5,10]\n",
    "s = np.random.normal(mu, sigma, shape)\n",
    "print(\"Second Column (index0): {}\".format(s[:,1]))\n",
    "print(\"Forth Row (index0): {}\".format(s[4,:]))"
   ]
  },
  {
   "cell_type": "markdown",
   "metadata": {},
   "source": [
    "# Problem 7\n",
    "\n",
    "About how long did this assignment take you?  Please be honest as we are looking for continuous feedback."
   ]
  },
  {
   "cell_type": "code",
   "execution_count": null,
   "metadata": {
    "collapsed": true
   },
   "outputs": [],
   "source": [
    "print(\"30 minutes\")"
   ]
  }
 ],
 "metadata": {
  "kernelspec": {
   "display_name": "Python 3",
   "language": "python",
   "name": "python3"
  },
  "language_info": {
   "codemirror_mode": {
    "name": "ipython",
    "version": 3
   },
   "file_extension": ".py",
   "mimetype": "text/x-python",
   "name": "python",
   "nbconvert_exporter": "python",
   "pygments_lexer": "ipython3",
   "version": "3.6.2"
  }
 },
 "nbformat": 4,
 "nbformat_minor": 1
}
