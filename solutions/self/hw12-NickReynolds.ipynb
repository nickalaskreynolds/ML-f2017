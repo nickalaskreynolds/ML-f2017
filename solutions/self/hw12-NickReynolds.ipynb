{
 "cells": [
  {
   "cell_type": "markdown",
   "metadata": {},
   "source": [
    "# Homework 12\n",
    "\n",
    "## ASTR 5900, Fall 2017, University of Oklahoma\n",
    "\n",
    "### Neural Networks"
   ]
  },
  {
   "cell_type": "markdown",
   "metadata": {},
   "source": [
    "# Problem 1\n",
    "\n",
    "Imagine a neural network that has already been trained to classify configurations of classical spins in a lattice as 1 of 2 magnetic phases: ferromagnetic or paramagnetic.  A training set was generated using Monte Carlo at a range of temperatures, and the target classifications were determined based on their temperatures relative to the known critical temperature for the 2D ferromagnetic Ising model with Hamiltonian $$ H = -J\\sum_{\\langle i,j \\rangle} \\sigma^z_i \\sigma^z_j $$\n",
    "where $\\sigma^z_k = \\{-1, 1 \\}$ is the spin at site $k$ and the summation is over adjacent spin sites (sites that share an edge).  This Hamiltonian says there is energy stored between adjacent sites with opposite spins.  Because of this, at low temperatures the spins generally point in a single direction (either up or down).  As the temperature increases and crosses the critical temperature $T_C$, this aggregate behavior suddenly fades and the Ising system becomes disordered with an average magnetization of zero.  This happens because at higher temperatures the lattice is more likely to reach configurations with high energy (ie those with opposing spins next to each other).\n",
    "\n",
    "\n",
    "### Part A\n",
    "\n",
    "In this problem we want to locate the critical temperature of the Ising model.  To do this we will study the output of the trained neural net mentioned in the above prompt from a series of samples that we will generate at various temperatures.\n",
    "\n",
    "In this problem we will study square lattices of size $10 \\times 10$ with periodic boundary conditions.\n",
    "\n",
    "Write 3 python functions that will be used to create our spin samples.  The first function `energy` should take a spin configuration (an array of 1's and -1's) and the return its energy as determined from the Hamiltonian above.  The second is the `metropolis` function which takes a temperature as an argument and returns a set of spin configurations sampled at that temperature.  This must be performed using an Metropolis-Hastings algorithm, described below:\n",
    "\n",
    "1.  Initialize a uniform spin configuration $s$.\n",
    "2. Loop $n$ times\n",
    "    1. Generate a neighboring spin configuration $s'$ that's a 'neighbor' of $s$\n",
    "    2. Assign variable `a` = $\\text{min}(1, \\exp(\\frac{E_i - E_j}{T}))$ \n",
    "    3. With probability `a` accept state $s'$ and store it in your sample array.  If rejected, store $s$.\n",
    "3. Return the array of stored states\n",
    "\n",
    "The third function is `neighbor` and it returns a 'neighboring' state that is close to the input state.  It takes a state as an argument, makes a copy of it with `numpy.copy`, and flips the spin of 3 random sites in the copied state.  The altered state is then returned."
   ]
  },
  {
   "cell_type": "code",
   "execution_count": 28,
   "metadata": {},
   "outputs": [
    {
     "name": "stdout",
     "output_type": "stream",
     "text": [
      "Num cores: 7\n"
     ]
    }
   ],
   "source": [
    "import numpy as np\n",
    "from numpy.polynomial import polynomial as P\n",
    "import matplotlib.pyplot as plt\n",
    "import pickle\n",
    "import random\n",
    "import multiprocessing as mp\n",
    "\n",
    "#The amount of processors in the computer.\n",
    "N_processors = mp.cpu_count() -1\n",
    "#We want to use a maximum of 10 processors.\n",
    "if N_processors > 10:\n",
    "    N_processors = 9\n",
    "\n",
    "print(\"Num cores: {}\".format(N_processors))"
   ]
  },
  {
   "cell_type": "code",
   "execution_count": 59,
   "metadata": {},
   "outputs": [],
   "source": [
    "class methas(object):\n",
    "    '''\n",
    "    Main class for the metropolis hastings algorithm\n",
    "    '''\n",
    "    def __init__(self,size,configs,alters=3):\n",
    "        self.spin = np.ones(size)\n",
    "        self.configs = configs\n",
    "        self.prob  = 1\n",
    "        self.alters = alters\n",
    "        \n",
    "    def __call__(self,temperature,interaction=1):\n",
    "        self.j = interaction\n",
    "        self.t = temperature\n",
    "        \n",
    "    def get_params(self):\n",
    "        return vars(self)\n",
    "    \n",
    "    def get_state(self):\n",
    "        return self.spin\n",
    "    \n",
    "    def neighborstate(self):\n",
    "        '''\n",
    "        Takes the spin state and returns the altered state\n",
    "        '''\n",
    "        tempstate = self.spin.copy()\n",
    "        for i in range(self.alters):\n",
    "            shape = tempstate.shape\n",
    "            row,col = random.randrange(shape[0]),random.randrange(shape[1])\n",
    "            tempstate[row,col] *= -1.\n",
    "        self.alteredstate = tempstate.copy()\n",
    "        \n",
    "    def hamiltonian(self,state):\n",
    "        '''\n",
    "        accepts a state and solves for the energy of the system\n",
    "        '''\n",
    "        numrows = len(state)\n",
    "        numcols = len(state[0])\n",
    "        energy_rowcol = [] # will store the energy for every site\n",
    "        for row in range(numrows):\n",
    "            for col in range(numcols):\n",
    "                left  = [(col - 1) % numcols, row]\n",
    "                right = [(col + 1) % numcols, row]\n",
    "                top   = [col, (row + 1) % numrows]\n",
    "                below = [col, (row - 1) % numrows]\n",
    "                sumstate = state[left[0],left[1]]   +\\\n",
    "                           state[right[0],right[1]] +\\\n",
    "                           state[top[0],top[1]]     +\\\n",
    "                           state[below[0],below[1]]\n",
    "                energy_rowcol.append(sumstate)\n",
    "        return -1.*self.j*np.sum(energy_rowcol)\n",
    "        \n",
    "    def probability(self,e1,e2):\n",
    "        '''\n",
    "        determine if the probability for \n",
    "        the state to be in new energy\n",
    "        return the minima between 1 and the probability state\n",
    "        '''\n",
    "        dele = e1-e2\n",
    "        temp = np.exp(dele/self.t)\n",
    "        #print(\"Energy: {},{},prob: {}\".format(e1,e2,temp))\n",
    "        self.prob = np.min([1.,temp])\n",
    "    \n",
    "    def detstate(self):\n",
    "        '''\n",
    "        determine if present state or \n",
    "        new state should be accepted\n",
    "        '''\n",
    "        if (self.prob >= 1) or (self.prob >= random.random()):\n",
    "            self.spin = self.alteredstate.copy()            \n",
    "            \n",
    "    def main(self):\n",
    "        '''\n",
    "        Main metropolis program\n",
    "        '''\n",
    "        for i in range(self.configs):\n",
    "            self.neighborstate()\n",
    "            e1 = self.hamiltonian(self.spin)\n",
    "            e2 = self.hamiltonian(self.alteredstate)\n",
    "            self.probability(e1,e2)\n",
    "            self.detstate()\n",
    "        "
   ]
  },
  {
   "cell_type": "code",
   "execution_count": 60,
   "metadata": {},
   "outputs": [
    {
     "name": "stdout",
     "output_type": "stream",
     "text": [
      "{'spin': array([[ 1.,  1.,  1.,  1.,  1.,  1.,  1.,  1.,  1.,  1.],\n",
      "       [ 1.,  1.,  1.,  1.,  1.,  1.,  1.,  1.,  1.,  1.],\n",
      "       [ 1.,  1.,  1.,  1.,  1.,  1.,  1.,  1.,  1.,  1.],\n",
      "       [ 1.,  1.,  1.,  1.,  1.,  1.,  1.,  1.,  1.,  1.],\n",
      "       [ 1.,  1.,  1.,  1.,  1.,  1.,  1.,  1.,  1.,  1.],\n",
      "       [ 1.,  1.,  1.,  1.,  1.,  1.,  1.,  1.,  1.,  1.],\n",
      "       [ 1.,  1.,  1.,  1.,  1.,  1.,  1.,  1.,  1.,  1.],\n",
      "       [ 1.,  1.,  1.,  1.,  1.,  1.,  1.,  1.,  1.,  1.],\n",
      "       [ 1.,  1.,  1.,  1.,  1.,  1.,  1.,  1.,  1.,  1.],\n",
      "       [ 1.,  1.,  1.,  1.,  1.,  1.,  1.,  1.,  1.,  1.]]), 'configs': 1000, 'prob': 1, 'alters': 3, 'j': 1, 't': 3}\n",
      "{'spin': array([[ 1.,  1.,  1.,  1.,  1.,  1.,  1.,  1.,  1.,  1.],\n",
      "       [ 1.,  1.,  1.,  1.,  1.,  1.,  1.,  1.,  1.,  1.],\n",
      "       [ 1.,  1.,  1.,  1.,  1.,  1., -1.,  1.,  1.,  1.],\n",
      "       [ 1.,  1.,  1.,  1.,  1.,  1.,  1.,  1.,  1., -1.],\n",
      "       [ 1., -1.,  1.,  1.,  1.,  1.,  1.,  1., -1.,  1.],\n",
      "       [ 1.,  1., -1.,  1.,  1.,  1.,  1.,  1.,  1.,  1.],\n",
      "       [ 1.,  1.,  1.,  1.,  1.,  1.,  1.,  1.,  1.,  1.],\n",
      "       [ 1.,  1.,  1.,  1.,  1.,  1.,  1.,  1.,  1.,  1.],\n",
      "       [ 1.,  1.,  1.,  1.,  1.,  1.,  1.,  1.,  1.,  1.],\n",
      "       [ 1.,  1.,  1.,  1.,  1.,  1.,  1.,  1.,  1.,  1.]]), 'configs': 1000, 'prob': 0.00033546262790251185, 'alters': 3, 'j': 1, 't': 3, 'alteredstate': array([[-1.,  1., -1.,  1.,  1.,  1.,  1.,  1.,  1.,  1.],\n",
      "       [ 1.,  1.,  1.,  1.,  1.,  1.,  1.,  1.,  1.,  1.],\n",
      "       [ 1.,  1.,  1.,  1.,  1.,  1., -1.,  1.,  1.,  1.],\n",
      "       [ 1.,  1.,  1.,  1.,  1.,  1.,  1.,  1.,  1., -1.],\n",
      "       [ 1., -1.,  1.,  1.,  1.,  1.,  1.,  1., -1.,  1.],\n",
      "       [ 1.,  1., -1.,  1.,  1.,  1.,  1., -1.,  1.,  1.],\n",
      "       [ 1.,  1.,  1.,  1.,  1.,  1.,  1.,  1.,  1.,  1.],\n",
      "       [ 1.,  1.,  1.,  1.,  1.,  1.,  1.,  1.,  1.,  1.],\n",
      "       [ 1.,  1.,  1.,  1.,  1.,  1.,  1.,  1.,  1.,  1.],\n",
      "       [ 1.,  1.,  1.,  1.,  1.,  1.,  1.,  1.,  1.,  1.]])}\n"
     ]
    }
   ],
   "source": [
    "m = methas((10,10),1000)\n",
    "m(3,)\n",
    "print(\"{}\".format(m.get_params()))\n",
    "m.main()\n",
    "print(\"{}\".format(m.get_params()))"
   ]
  },
  {
   "cell_type": "markdown",
   "metadata": {},
   "source": [
    "### Part B\n",
    "\n",
    "It's time to generate data with the functions we just defined and apply it to the trained neural net.  As you know, a standard feed forward neural network is a series of layers of connected neurons that fire (or fractionally fire) based on the linear sum of weights and inputs from their respective previous layer.\n",
    "\n",
    "The neural network in question has 3 layers: the 100 size input layer (because the input is an spin configuration on a $10 \\times 10$ lattice), a hidden layer with 3 perceptrons, and an output layer of 2 perceptrons.  The weights and biases of the first layer are:\n",
    "\n",
    "$$ W_1 = \\frac{1}{N(1 + \\epsilon)}\n",
    " \\begin{pmatrix}\n",
    "  1 & 1 & \\cdots & 1 \\\\\n",
    "  -1 & -1 & \\cdots & -1 \\\\\n",
    "  1 & 1 & \\cdots & 1\n",
    " \\end{pmatrix} \\; \\; \\text{and} \\; \\; b_1 = \\frac{\\epsilon}{1+\\epsilon} \\begin{pmatrix}\n",
    "  -1 \\\\\n",
    "  -1 \\\\\n",
    "  1\n",
    " \\end{pmatrix}$$\n",
    " \n",
    " This actually works out to be $$ Wx + b = \\frac{1}{1 + \\epsilon}\\begin{pmatrix}\n",
    "  m(x) - \\epsilon \\\\\n",
    "  -m(x) - \\epsilon \\\\\n",
    "  m(x) + \\epsilon\n",
    " \\end{pmatrix}$$\n",
    " \n",
    " where $m(x) = \\frac{1}{N}\\sum_i \\sigma^z_i$ is the total magnetization of configuration $x$.  $\\epsilon$ is a parameter ranging from 0 to 1 that determines how polarized the spins have to be to be classified a one of the ways.  Start with an $ \\epsilon $ of 0.3, but feel free to vary it and discuss its effect.  A heaviside step function is applied to each of these elements because they are Perceptrons.\n",
    " \n",
    "The output's weights and biases are:\n",
    "$$ W_2 = \n",
    " \\begin{pmatrix}\n",
    "  2 & 1 &  -1 \\\\\n",
    "      -2 & -2 & 1\n",
    " \\end{pmatrix} \\; \\; \\text{and} \\; \\; b_2 =\\begin{pmatrix}\n",
    "  0 \\\\\n",
    "    0\n",
    " \\end{pmatrix}$$\n",
    "\n",
    "The output features 2 neurons: one that fires if the input is in the cold, ferromagnetic state and the other if the input is in the warm, paramagnetic state.  Write a function `toy_model` that maps an Ising configuration to a vector of length 2 with these specifications.  This function will be the neural net, effectively.\n",
    "\n",
    "Sample 20 temperatures between 1 and 5 inclusive.  For each temperature, generate 10000 spin configurations with `metropolis`.  Determine the average of each output neuron, and plot the results as a function of temperature on the same figure.  The critical temperature is understood to be at the point in which the lines cross.  What is $T_C$?"
   ]
  },
  {
   "cell_type": "code",
   "execution_count": 61,
   "metadata": {},
   "outputs": [],
   "source": [
    "def weights(size,epsilon):\n",
    "    nummatrix = size[0] * size[1]\n",
    "    weight1 = 1./(1.+epsilon) * (1./nummatrix) * np.array([np.ones(nummatrix),-1*np.ones(nummatrix),np.ones(nummatrix)])\n",
    "    weight2 = np.array([[2,1,-1],[-2,-2,1]])\n",
    "    bias1   = epsilon/(1.+epsilon) *np.array([-1,-1,1]).T\n",
    "    bias2   =np.array([0,0]).T\n",
    "    return weight1,weight2,bias1,bias2\n",
    "\n",
    "def main(called,size,configs,temp,intenergy,epsilon):\n",
    "    print('Temp: {}'.format(temp))\n",
    "    pos = '{}'.format(temp)\n",
    "    called[pos] = methas(size,configs)\n",
    "    called[pos](temp,intenergy)\n",
    "    called[pos].main()\n",
    "    state1 = called[pos].get_state().flatten().T\n",
    "    #print(state1.shape)\n",
    "    weight1,weight2,bias1,bias2 = weights(size,epsilon)\n",
    "    #print(weight1.shape,weight2.shape,bias1.shape,bias2.shape)\n",
    "    tmp1 = np.inner(weight1,state1) + bias1\n",
    "    #print(tmp1.shape)\n",
    "    tmp2 = np.inner(weight2,tmp1)   + bias2\n",
    "    #print(tmp2.shape)\n",
    "    return tmp2\n",
    "\n",
    "def toy_model(size,epsilon,temprange,intenergy,configs):\n",
    "    print('Starting model..')\n",
    "    called = {}\n",
    "    pool = mp.Pool(processes = N_processors,maxtasksperchild=10)\n",
    "    results = [pool.apply_async(main, args=(called,size,configs,temp,intenergy,epsilon)) for temp in temprange]\n",
    "    temp = [job.get() for job in results]\n",
    "    print(temp)\n",
    "    master = [r for r in temp]\n",
    "    '''\n",
    "    for temp in temprange:\n",
    "        print(\"Temp: {}\".format(temp))\n",
    "        m = methas(size,configs)\n",
    "        m(temp,intenergy)\n",
    "        m.main()\n",
    "        state1 = m.get_state().flatten().T\n",
    "        #print(state1.shape)\n",
    "        weight1,weight2,bias1,bias2 = weights(size,epsilon)\n",
    "        #print(weight1.shape,weight2.shape,bias1.shape,bias2.shape)\n",
    "        tmp1 = np.inner(weight1,state1) + bias1\n",
    "        #print(tmp1.shape)\n",
    "        tmp2 = np.inner(weight2,tmp1)   + bias2\n",
    "        #print(tmp2.shape)\n",
    "        master.append(tmp2)\n",
    "    '''\n",
    "    print('Finished')\n",
    "    master = np.array(master).T\n",
    "    print(master.shape)\n",
    "    para = master[0,:].copy()\n",
    "    fero = master[1,:].copy()\n",
    "    return para,fero"
   ]
  },
  {
   "cell_type": "code",
   "execution_count": 62,
   "metadata": {
    "scrolled": true
   },
   "outputs": [
    {
     "name": "stdout",
     "output_type": "stream",
     "text": [
      "Starting model..\n",
      "Temp: 1.163265306122449\n",
      "Temp: 1.0\n",
      "Temp: 1.0816326530612246\n",
      "Temp: 1.2448979591836735\n",
      "Temp: 1.4081632653061225\n",
      "Temp: 1.489795918367347\n",
      "Temp: 1.3265306122448979\n",
      "Temp: 1.5714285714285714\n",
      "Temp: 1.6530612244897958\n",
      "Temp: 1.7346938775510203\n",
      "Temp: 1.816326530612245\n",
      "Temp: 1.8979591836734693\n",
      "Temp: 1.9795918367346939\n",
      "Temp: 2.061224489795918\n",
      "Temp: 2.142857142857143\n",
      "Temp: 2.224489795918367\n",
      "Temp: 2.3061224489795915\n",
      "Temp: 2.387755102040816\n",
      "Temp: 2.4693877551020407\n",
      "Temp: 2.5510204081632653\n",
      "Temp: 2.63265306122449\n",
      "Temp: 2.7142857142857144\n",
      "Temp: 2.7959183673469385\n",
      "Temp: 2.877551020408163\n",
      "Temp: 2.9591836734693877\n",
      "Temp: 3.0408163265306123\n",
      "Temp: 3.1224489795918364\n",
      "Temp: 3.204081632653061\n",
      "Temp: 3.2857142857142856\n",
      "Temp: 3.36734693877551\n",
      "Temp: 3.4489795918367343\n",
      "Temp: 3.530612244897959\n",
      "Temp: 3.6122448979591835\n",
      "Temp: 3.693877551020408\n",
      "Temp: 3.7755102040816326\n",
      "Temp: 3.8571428571428568\n",
      "Temp: 3.9387755102040813\n",
      "Temp: 4.020408163265306\n",
      "Temp: 4.1020408163265305\n",
      "Temp: 4.183673469387754\n",
      "Temp: 4.26530612244898\n",
      "Temp: 4.346938775510203\n",
      "Temp: 4.428571428571429\n",
      "Temp: 4.5102040816326525\n",
      "Temp: 4.591836734693877\n",
      "Temp: 4.673469387755102\n",
      "Temp: 4.755102040816326\n",
      "Temp: 4.836734693877551\n",
      "Temp: 4.918367346938775\n",
      "Temp: 5.0\n",
      "[array([-0.92307692,  1.92307692]), array([-0.92307692,  1.92307692]), array([-0.92307692,  1.90769231]), array([-0.92307692,  1.92307692]), array([-0.92307692,  1.92307692]), array([-0.92307692,  1.92307692]), array([-0.92307692,  1.92307692]), array([-0.92307692,  1.92307692]), array([-0.92307692,  1.90769231]), array([-0.92307692,  1.90769231]), array([-0.92307692,  1.89230769]), array([-0.92307692,  1.86153846]), array([-0.92307692,  1.90769231]), array([-0.92307692,  1.87692308]), array([-0.92307692,  1.90769231]), array([-0.92307692,  1.84615385]), array([-0.92307692,  1.92307692]), array([-0.92307692,  1.89230769]), array([-0.92307692,  1.87692308]), array([-0.92307692,  1.86153846]), array([-0.92307692,  1.83076923]), array([-0.92307692,  1.84615385]), array([-0.92307692,  1.84615385]), array([-0.92307692,  1.83076923]), array([-0.92307692,  1.81538462]), array([-0.92307692,  1.86153846]), array([-0.92307692,  1.8       ]), array([-0.92307692,  1.84615385]), array([-0.92307692,  1.78461538]), array([-0.92307692,  1.72307692]), array([-0.92307692,  1.75384615]), array([-0.92307692,  1.78461538]), array([-0.92307692,  1.81538462]), array([-0.92307692,  1.73846154]), array([-0.92307692,  1.76923077]), array([-0.92307692,  1.64615385]), array([-0.92307692,  1.73846154]), array([-0.92307692,  1.72307692]), array([-0.92307692,  1.73846154]), array([-0.92307692,  1.69230769]), array([-0.92307692,  1.63076923]), array([-0.92307692,  1.72307692]), array([-0.92307692,  1.75384615]), array([-0.92307692,  1.8       ]), array([-0.92307692,  1.66153846]), array([-0.92307692,  1.61538462]), array([-0.92307692,  1.69230769]), array([-0.92307692,  1.67692308]), array([-0.92307692,  1.72307692]), array([-0.92307692,  1.58461538])]\n",
      "Finished\n",
      "(2, 50)\n"
     ]
    }
   ],
   "source": [
    "epsilon = 0.3\n",
    "size = (10,10)\n",
    "temprange=np.linspace(1,5,50)\n",
    "intenergy = 1.\n",
    "configurations = 10000\n",
    "\n",
    "para,fero = toy_model(size,epsilon,temprange,intenergy,configurations)"
   ]
  },
  {
   "cell_type": "code",
   "execution_count": 63,
   "metadata": {},
   "outputs": [],
   "source": [
    "data = {'para':para,'fero':fero,'temp':temprange}\n",
    "filename = 'hw12-2.pickle'\n",
    "with open(filename,'wb') as f:\n",
    "    pickle.dump(data,f)"
   ]
  },
  {
   "cell_type": "code",
   "execution_count": 64,
   "metadata": {},
   "outputs": [
    {
     "data": {
      "text/plain": [
       "{'fero': array([ 1.92307692,  1.92307692,  1.90769231,  1.92307692,  1.92307692,\n",
       "         1.92307692,  1.92307692,  1.92307692,  1.90769231,  1.90769231,\n",
       "         1.89230769,  1.86153846,  1.90769231,  1.87692308,  1.90769231,\n",
       "         1.84615385,  1.92307692,  1.89230769,  1.87692308,  1.86153846,\n",
       "         1.83076923,  1.84615385,  1.84615385,  1.83076923,  1.81538462,\n",
       "         1.86153846,  1.8       ,  1.84615385,  1.78461538,  1.72307692,\n",
       "         1.75384615,  1.78461538,  1.81538462,  1.73846154,  1.76923077,\n",
       "         1.64615385,  1.73846154,  1.72307692,  1.73846154,  1.69230769,\n",
       "         1.63076923,  1.72307692,  1.75384615,  1.8       ,  1.66153846,\n",
       "         1.61538462,  1.69230769,  1.67692308,  1.72307692,  1.58461538]),\n",
       " 'para': array([-0.92307692, -0.92307692, -0.92307692, -0.92307692, -0.92307692,\n",
       "        -0.92307692, -0.92307692, -0.92307692, -0.92307692, -0.92307692,\n",
       "        -0.92307692, -0.92307692, -0.92307692, -0.92307692, -0.92307692,\n",
       "        -0.92307692, -0.92307692, -0.92307692, -0.92307692, -0.92307692,\n",
       "        -0.92307692, -0.92307692, -0.92307692, -0.92307692, -0.92307692,\n",
       "        -0.92307692, -0.92307692, -0.92307692, -0.92307692, -0.92307692,\n",
       "        -0.92307692, -0.92307692, -0.92307692, -0.92307692, -0.92307692,\n",
       "        -0.92307692, -0.92307692, -0.92307692, -0.92307692, -0.92307692,\n",
       "        -0.92307692, -0.92307692, -0.92307692, -0.92307692, -0.92307692,\n",
       "        -0.92307692, -0.92307692, -0.92307692, -0.92307692, -0.92307692]),\n",
       " 'temp': array([ 1.        ,  1.08163265,  1.16326531,  1.24489796,  1.32653061,\n",
       "         1.40816327,  1.48979592,  1.57142857,  1.65306122,  1.73469388,\n",
       "         1.81632653,  1.89795918,  1.97959184,  2.06122449,  2.14285714,\n",
       "         2.2244898 ,  2.30612245,  2.3877551 ,  2.46938776,  2.55102041,\n",
       "         2.63265306,  2.71428571,  2.79591837,  2.87755102,  2.95918367,\n",
       "         3.04081633,  3.12244898,  3.20408163,  3.28571429,  3.36734694,\n",
       "         3.44897959,  3.53061224,  3.6122449 ,  3.69387755,  3.7755102 ,\n",
       "         3.85714286,  3.93877551,  4.02040816,  4.10204082,  4.18367347,\n",
       "         4.26530612,  4.34693878,  4.42857143,  4.51020408,  4.59183673,\n",
       "         4.67346939,  4.75510204,  4.83673469,  4.91836735,  5.        ])}"
      ]
     },
     "execution_count": 64,
     "metadata": {},
     "output_type": "execute_result"
    }
   ],
   "source": [
    "data"
   ]
  },
  {
   "cell_type": "code",
   "execution_count": 65,
   "metadata": {},
   "outputs": [
    {
     "data": {
      "text/plain": [
       "<matplotlib.figure.Figure at 0x7f51d46e66a0>"
      ]
     },
     "metadata": {},
     "output_type": "display_data"
    },
    {
     "data": {
      "image/png": "[encoded data removed]",
      "text/plain": [
       "<matplotlib.figure.Figure at 0x7f51d46e6128>"
      ]
     },
     "metadata": {},
     "output_type": "display_data"
    }
   ],
   "source": [
    "plt.clf()\n",
    "plt.figure(figsize=[10,7])\n",
    "#plt.plot(temprange,para,'r-',label='para')\n",
    "plt.plot(temprange,fero,'b-',label='fero')\n",
    "plt.legend()\n",
    "plt.show()"
   ]
  },
  {
   "cell_type": "markdown",
   "metadata": {},
   "source": [
    "# Problem Z\n",
    "\n",
    "Comment on the amount of time this assignment required."
   ]
  },
  {
   "cell_type": "markdown",
   "metadata": {},
   "source": [
    "## Wording was extremely terrible on this assignment...\n",
    "\n",
    "5 hours and I know it is wrong\n"
   ]
  },
  {
   "cell_type": "code",
   "execution_count": null,
   "metadata": {},
   "outputs": [],
   "source": []
  }
 ],
 "metadata": {
  "kernelspec": {
   "display_name": "Python 3",
   "language": "python",
   "name": "python3"
  },
  "language_info": {
   "codemirror_mode": {
    "name": "ipython",
    "version": 3
   },
   "file_extension": ".py",
   "mimetype": "text/x-python",
   "name": "python",
   "nbconvert_exporter": "python",
   "pygments_lexer": "ipython3",
   "version": "3.6.3"
  }
 },
 "nbformat": 4,
 "nbformat_minor": 2
}
